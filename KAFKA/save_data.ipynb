{
 "cells": [
  {
   "cell_type": "code",
   "execution_count": 1,
   "metadata": {},
   "outputs": [],
   "source": [
    "from cassandra.cluster import Cluster\n",
    "import pandas as pd\n",
    "import numpy as np"
   ]
  },
  {
   "cell_type": "code",
   "execution_count": 5,
   "metadata": {},
   "outputs": [],
   "source": [
    "cluster = Cluster([\"127.0.0.1\"],port=9042)\n",
    "\n",
    "\n",
    "#connect to the keyspace\n",
    "session = cluster.connect('test')\n"
   ]
  },
  {
   "cell_type": "code",
   "execution_count": null,
   "metadata": {},
   "outputs": [],
   "source": [
    "#Saving Strategy\n",
    "#for each new received record\n",
    "    # 1.check if it's a new client\n",
    "        # if yes --> save the client and the card and the event \n",
    "    # 2.if it's an old client\n",
    "        # save the event "
   ]
  },
  {
   "cell_type": "code",
   "execution_count": 13,
   "metadata": {},
   "outputs": [],
   "source": [
    "# function which checks whether it's a new client or not\n",
    "def is_new_client(id_client):\n",
    "    #check if the received id exists in clients table\n",
    "    user =  pd.DataFrame(list(session.execute(f\"SELECT id_client FROM client where \\\n",
    "            id_client = '{id_client}' allow filtering;\")))\n",
    "    if( user.shape[0] == 0):\n",
    "        return True\n",
    "    else:\n",
    "        return False\n"
   ]
  },
  {
   "cell_type": "code",
   "execution_count": null,
   "metadata": {},
   "outputs": [],
   "source": [
    "#save the new record\n",
    "def save_new_record(record):\n",
    "\n",
    "    new_id = record[\"client\"][\"id\"]\n",
    "\n",
    "    #if it's a new client\n",
    "    if(is_new_client(new_id) == True):\n",
    "        #save the client\n",
    "        client_id= record[\"client\"][\"id\"]\n",
    "        first_name = record[\"client\"][\"firstName\"]\n",
    "        last_name = record[\"client\"][\"lastName\"]\n",
    "        #last_index='null'\n",
    "        #top_line='null'\n",
    "        session.execute(f\"INSERT INTO client(id_client, first_name , last_index , last_name ,top_line )\\\n",
    "            VALUES ('{client_id}', '{first_name}',null,'{last_name}',null);\")\n",
    "        #save the card \n",
    "        id_card= record[\"card\"][\"id\"]\n",
    "        end_of_validity=record[\"card\"][\"endOfValidityTimeStamp\"]\n",
    "        type=record[\"card\"][\"type\"]\n",
    "        session.execute(f\"INSERT INTO card(id_card ,end_of_validity,id_client,type)\\\n",
    "            VALUES ('{id_card}', '{end_of_validity}','{client_id}','{type}');\")\n",
    "        #save the event\n",
    "\n",
    "            #get the last event_index\n",
    "        last_index = pd.DataFrame(list(session.execute(f\"SELECT max(id_event) as max FROM Event;\")))['max']\n",
    "        index = 0\n",
    "        if(last_index[0] != None):\n",
    "            index = int(last_index[0]) + 1\n",
    "\n",
    "\n",
    "        \n",
    "        arrival_station = record[\"destinationStationId\"]\n",
    "        id_card = record[\"card\"][\"id\"]\n",
    "        id_user = record[\"client\"][\"id\"]\n",
    "        line = record[\"line\"]\n",
    "        start_station = record[\"stationId\"]\n",
    "        timestamp = record[\"requestTimeStamp\"]\n",
    "\n",
    "        session.execute(f\"INSERT INTO event(id_event,end_station,id_card,id_user,line,start_station,timestamp)\\\n",
    "            VALUES ({index}, '{arrival_station}','{id_card}','{id_user}','{line}','{start_station}','{timestamp}');\")\n",
    "\n",
    "    else: #if it's an old client\n",
    "        #save the event\n",
    "        last_index = pd.DataFrame(list(session.execute(f\"SELECT max(id_event) as max FROM Event;\")))['max']\n",
    "        index = 0\n",
    "        if(last_index[0] != None):\n",
    "            index = int(last_index[0]) + 1\n",
    "\n",
    "\n",
    "        \n",
    "        arrival_station = record[\"destinationStationId\"]\n",
    "        id_card = record[\"card\"][\"id\"]\n",
    "        id_user = record[\"client\"][\"id\"]\n",
    "        line = record[\"line\"]\n",
    "        start_station = record[\"stationId\"]\n",
    "        timestamp = record[\"requestTimeStamp\"]\n",
    "\n",
    "        session.execute(f\"INSERT INTO event(id_event,end_station,id_card,id_user,line,start_station,timestamp)\\\n",
    "            VALUES ({index}, '{arrival_station}','{id_card}','{id_user}','{line}','{start_station}','{timestamp}');\")"
   ]
  },
  {
   "cell_type": "code",
   "execution_count": 18,
   "metadata": {},
   "outputs": [
    {
     "data": {
      "text/plain": [
       "False"
      ]
     },
     "execution_count": 18,
     "metadata": {},
     "output_type": "execute_result"
    }
   ],
   "source": [
    "is_new_client(\"f448487\")"
   ]
  },
  {
   "cell_type": "code",
   "execution_count": null,
   "metadata": {},
   "outputs": [],
   "source": [
    "session.execute(f\"INSERT INTO event(id_event,end_station,id_card,id_user,line,start_station,timestamp)\\\n",
    "            VALUES (1, 'Albert 1er de Belgique',2,3,'A','Auguste Delaune','2022-12-25T11:48:26.645064' );\")"
   ]
  },
  {
   "cell_type": "code",
   "execution_count": 20,
   "metadata": {},
   "outputs": [
    {
     "data": {
      "text/plain": [
       "<cassandra.cluster.ResultSet at 0x20e337f7c88>"
      ]
     },
     "execution_count": 20,
     "metadata": {},
     "output_type": "execute_result"
    }
   ],
   "source": [
    "session.execute(f\"INSERT INTO client(id_client, first_name , last_index , last_name ,top_line )\\\n",
    "            VALUES ('f448486', 'Hicham',null,'AHMAD',null);\")"
   ]
  },
  {
   "cell_type": "code",
   "execution_count": 23,
   "metadata": {},
   "outputs": [],
   "source": [
    "last_index = pd.DataFrame(list(session.execute(f\"SELECT max(id_event) as max FROM Event;\")))['max']"
   ]
  },
  {
   "cell_type": "code",
   "execution_count": null,
   "metadata": {},
   "outputs": [],
   "source": []
  }
 ],
 "metadata": {
  "kernelspec": {
   "display_name": "base",
   "language": "python",
   "name": "python3"
  },
  "language_info": {
   "codemirror_mode": {
    "name": "ipython",
    "version": 3
   },
   "file_extension": ".py",
   "mimetype": "text/x-python",
   "name": "python",
   "nbconvert_exporter": "python",
   "pygments_lexer": "ipython3",
   "version": "3.7.10"
  },
  "orig_nbformat": 4,
  "vscode": {
   "interpreter": {
    "hash": "a077222d77dfe082b8f1dd562ad70e458ac2ab76993a0b248ab0476e32e9e8dd"
   }
  }
 },
 "nbformat": 4,
 "nbformat_minor": 2
}
