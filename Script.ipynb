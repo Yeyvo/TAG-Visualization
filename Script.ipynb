{
 "cells": [
  {
   "cell_type": "code",
   "execution_count": 26,
   "metadata": {},
   "outputs": [
    {
     "data": {
      "text/plain": [
       "1667948400.0"
      ]
     },
     "execution_count": 26,
     "metadata": {},
     "output_type": "execute_result"
    }
   ],
   "source": [
    "import time\n",
    "import datetime\n",
    "s = \"2022-11-09\"\n",
    "time.mktime(datetime.datetime.strptime(s, \"%Y-%m-%d\").timetuple())"
   ]
  },
  {
   "cell_type": "code",
   "execution_count": 7,
   "metadata": {},
   "outputs": [
    {
     "name": "stdout",
     "output_type": "stream",
     "text": [
      "Collecting cassandra-driver\n",
      "  Downloading cassandra_driver-3.25.0-cp38-cp38-win_amd64.whl (2.9 MB)\n",
      "Collecting geomet<0.3,>=0.1\n",
      "  Downloading geomet-0.2.1.post1-py3-none-any.whl (18 kB)\n",
      "Requirement already satisfied: six>=1.9 in c:\\users\\user\\anaconda3\\lib\\site-packages (from cassandra-driver) (1.15.0)\n",
      "Requirement already satisfied: click in c:\\users\\user\\anaconda3\\lib\\site-packages (from geomet<0.3,>=0.1->cassandra-driver) (7.1.2)\n",
      "Installing collected packages: geomet, cassandra-driver\n",
      "Successfully installed cassandra-driver-3.25.0 geomet-0.2.1.post1\n"
     ]
    }
   ],
   "source": [
    "!pip install cassandra-driver"
   ]
  },
  {
   "cell_type": "code",
   "execution_count": 3,
   "metadata": {},
   "outputs": [],
   "source": [
    "#import modules\n",
    "from cassandra.cluster import Cluster\n",
    "import pandas as pd"
   ]
  },
  {
   "cell_type": "code",
   "execution_count": 4,
   "metadata": {},
   "outputs": [],
   "source": [
    "#connect to the cluster\n",
    "cluster = Cluster(['127.0.0.1'],port=9042)"
   ]
  },
  {
   "cell_type": "code",
   "execution_count": 5,
   "metadata": {},
   "outputs": [],
   "source": [
    "#connect to the keyspace\n",
    "session = cluster.connect('DB')"
   ]
  },
  {
   "cell_type": "code",
   "execution_count": 6,
   "metadata": {},
   "outputs": [],
   "source": [
    "#get the data\n",
    "df = pd.DataFrame(list(session.execute('SELECT * FROM \"Card\";')))"
   ]
  },
  {
   "cell_type": "code",
   "execution_count": 5,
   "metadata": {},
   "outputs": [
    {
     "data": {
      "text/html": [
       "<div>\n",
       "<style scoped>\n",
       "    .dataframe tbody tr th:only-of-type {\n",
       "        vertical-align: middle;\n",
       "    }\n",
       "\n",
       "    .dataframe tbody tr th {\n",
       "        vertical-align: top;\n",
       "    }\n",
       "\n",
       "    .dataframe thead th {\n",
       "        text-align: right;\n",
       "    }\n",
       "</style>\n",
       "<table border=\"1\" class=\"dataframe\">\n",
       "  <thead>\n",
       "    <tr style=\"text-align: right;\">\n",
       "      <th></th>\n",
       "      <th>id_card</th>\n",
       "      <th>end_of_validity</th>\n",
       "      <th>id_client</th>\n",
       "      <th>type</th>\n",
       "    </tr>\n",
       "  </thead>\n",
       "  <tbody>\n",
       "    <tr>\n",
       "      <th>0</th>\n",
       "      <td>1</td>\n",
       "      <td>2022-11-05</td>\n",
       "      <td>1</td>\n",
       "      <td>month</td>\n",
       "    </tr>\n",
       "    <tr>\n",
       "      <th>1</th>\n",
       "      <td>2</td>\n",
       "      <td>2022-11-05</td>\n",
       "      <td>2</td>\n",
       "      <td>month</td>\n",
       "    </tr>\n",
       "    <tr>\n",
       "      <th>2</th>\n",
       "      <td>3</td>\n",
       "      <td>2022-11-05</td>\n",
       "      <td>3</td>\n",
       "      <td>year</td>\n",
       "    </tr>\n",
       "  </tbody>\n",
       "</table>\n",
       "</div>"
      ],
      "text/plain": [
       "   id_card end_of_validity  id_client   type\n",
       "0        1      2022-11-05          1  month\n",
       "1        2      2022-11-05          2  month\n",
       "2        3      2022-11-05          3   year"
      ]
     },
     "execution_count": 5,
     "metadata": {},
     "output_type": "execute_result"
    }
   ],
   "source": [
    "#show data\n",
    "df"
   ]
  },
  {
   "cell_type": "code",
   "execution_count": 46,
   "metadata": {},
   "outputs": [
    {
     "data": {
      "text/plain": [
       "{'day': '03/11/2022',\n",
       " 'interval_start': 9,\n",
       " 'tram_A': {'users': 30, 'station1': 10, 'station2': 10, 'station3': 10},\n",
       " 'tram_B': {'users': 50, 'station1': 10, 'station2': 30, 'station3': 10},\n",
       " 'tram_C': {'users': 100, 'station1': 40, 'station2': 50, 'station3': 10}}"
      ]
     },
     "execution_count": 46,
     "metadata": {},
     "output_type": "execute_result"
    }
   ],
   "source": [
    "{\n",
    "    \"day\":\"03/11/2022\",\n",
    "    \"new_subscibers\": {\n",
    "        \"number\":30,\n",
    "        \"normal_user\":5,\n",
    "        \"monthly\":15,\n",
    "        \"year\":10\n",
    "        \n",
    "    }\n",
    "}\n",
    "\n",
    "\n",
    "{\n",
    "    \"day\":\"03/11/2022\",\n",
    "    \"interval_start\":8,\n",
    "    \"interval_end\":9,\n",
    "    \"tram_A\":{\n",
    "        \"users\":30,\n",
    "        \"station1\":10,\n",
    "        \"station2\":10,\n",
    "        \"station3\":10,\n",
    "    },\n",
    "    \"tram_B\":{\n",
    "        \"users\":50,\n",
    "        \"station1\":10,\n",
    "        \"station2\":30,\n",
    "        \"station3\":10,\n",
    "    },\n",
    "    \"tram_C\":{\n",
    "        \"users\":100,\n",
    "        \"station1\":40,\n",
    "        \"station2\":50,\n",
    "        \"station3\":10,\n",
    "    }\n",
    "}"
   ]
  },
  {
   "cell_type": "code",
   "execution_count": 51,
   "metadata": {},
   "outputs": [],
   "source": [
    "#compute the number of new users\n",
    "#get the last day for which the data was processed\n",
    "last_day = df = pd.DataFrame(list(session.execute('SELECT max(day) as last_day FROM \"statistics_1\";')))['last_day'][0]"
   ]
  },
  {
   "cell_type": "code",
   "execution_count": 53,
   "metadata": {},
   "outputs": [
    {
     "data": {
      "text/plain": [
       "True"
      ]
     },
     "execution_count": 53,
     "metadata": {},
     "output_type": "execute_result"
    }
   ],
   "source": [
    "last_day == None"
   ]
  },
  {
   "cell_type": "code",
   "execution_count": 8,
   "metadata": {},
   "outputs": [],
   "source": [
    "from datetime import datetime\n",
    "from datetime import timedelta\n",
    "import pandas as pd\n",
    "import time"
   ]
  },
  {
   "cell_type": "code",
   "execution_count": 120,
   "metadata": {},
   "outputs": [],
   "source": [
    "def statistics_1(session):\n",
    "    last_day = pd.DataFrame(list(session.execute('SELECT max(day) as last_day FROM \"statistics_1\";')))['last_day'][0]\n",
    "    #print(last_day)\n",
    "    if last_day != None:\n",
    "        #get the users for the new day\n",
    "        date_1 = datetime.strptime(str(last_day), \"%Y-%m-%d\")\n",
    "        end_date = date_1 + timedelta(days=1)\n",
    "        #end_date = time.mktime(datetime.datetime.strptime(end_date, \"%Y/%m/%d\").timetuple())\n",
    "\n",
    "        dates = pd.DataFrame(list(session.execute(f\"SELECT toDate(timestamp) as date\\\n",
    "         FROM \\\"Event\\\" where timestamp >= '{end_date}' allow filtering;\")))['date'].unique()\n",
    "        \n",
    "    else:\n",
    "        dates = pd.DataFrame(list(session.execute(f'SELECT toDate(timestamp) as date\\\n",
    "         FROM \"Event\";')))['date'].unique()\n",
    "\n",
    "\n",
    "    dates.sort()\n",
    "    \n",
    "    for date in dates:\n",
    "\n",
    "            date_time_obj = datetime. strptime(str(date), '%Y-%m-%d')\n",
    "\n",
    "            if (date_time_obj.date() >= datetime.now().date()):\n",
    "                print(f\"you have to wait until next day to process {date_time_obj.date()} data\")\n",
    "                return\n",
    "            #print(date)\n",
    "            #date = datetime.fromtimestamp(date).date()\n",
    "            date_1 = (datetime.strptime(str(date), \"%Y-%m-%d\"))\n",
    "            end_date = date_1 + timedelta(days=1)\n",
    "            end_date = str(end_date.date())\n",
    "            date = str(date)\n",
    "            #print(end_date.date())\n",
    "            #end_date = int(time.mktime(datetime.strptime(str(end_date.date()), \"%Y-%m-%d\").timetuple()))\n",
    "            #start =  int(time.mktime(datetime.strptime(str(date), \"%Y-%m-%d\").timetuple()))\n",
    "            #print(int(start))\n",
    "            #print(int(end_date))\n",
    "            #print(date)\n",
    "            #print(end_date)\n",
    "            users =  pd.DataFrame(list(session.execute(f\"SELECT id_user FROM \\\"Event\\\" where \\\n",
    "            timestamp >= '{date}' and  timestamp < '{end_date}' allow filtering;\")))\n",
    "            #print(users)\n",
    "            \n",
    "            users = users['id_user'].unique()\n",
    "            \n",
    "            #get the old users \n",
    "\n",
    "            old_users =  pd.DataFrame(list(session.execute(f\"SELECT id_user FROM \\\"Event\\\" \\\n",
    "            where timestamp < '{date}' ALLOW FILTERING;\")))\n",
    "\n",
    "            try:\n",
    "                old_users = old_users['id_user'].unique()\n",
    "            except:\n",
    "                old_users = []\n",
    "\n",
    "            #find the new users\n",
    "            #new_users_count = 0\n",
    "            new_users = []\n",
    "            for user in users:\n",
    "                if user not in old_users:\n",
    "                    new_users.append(user)\n",
    "\n",
    "\n",
    "            details = {\"month\":[],\"year\":[]}\n",
    "\n",
    "            #find the type of subsciption for new users\n",
    "            prepared_statement = session.prepare('SELECT type from \"Card\" where id_client = ? ALLOW FILTERING;')\n",
    "\n",
    "            for user in new_users:\n",
    "                card_type = pd.DataFrame(list(session.execute(prepared_statement,[user])))['type'][0]\n",
    "                if(card_type == \"month\"):\n",
    "                    details['month'].append(user)\n",
    "                elif(card_type == \"year\"):\n",
    "                    details['year'].append(user)\n",
    "            \n",
    "            session.execute(f\"INSERT INTO statistics_1(day, month_user, new_subs, year_user)\\\n",
    "            VALUES ('{date}', {len(details['month'])},{len(new_users)} ,{len(details['year'])} );\")\n",
    "            print(\"statisctics saved!\")\n",
    "                    "
   ]
  },
  {
   "cell_type": "code",
   "execution_count": 128,
   "metadata": {},
   "outputs": [],
   "source": [
    "def statistics_2(session):\n",
    "    last_day = df = pd.DataFrame(list(session.execute('SELECT max(day) as last_day FROM \"statistics_2\";')))['last_day'][0]\n",
    "    if last_day != None:\n",
    "        #get the users for the new day\n",
    "        date_1 = datetime.strptime(str(last_day), \"%Y-%m-%d\")\n",
    "        end_date = date_1 + timedelta(days=1)\n",
    "        #end_date = time.mktime(datetime.datetime.strptime(end_date, \"%Y/%m/%d\").timetuple())\n",
    "\n",
    "        try:\n",
    "\n",
    "            dates = pd.DataFrame(list(session.execute(f\"SELECT toDate(timestamp) as date\\\n",
    "            FROM \\\"Event\\\" where timestamp >= '{end_date}' allow filtering;\")))['date'].unique()\n",
    "        except:\n",
    "            print(\"No new data to process !!\")\n",
    "            return\n",
    "        \n",
    "    else:\n",
    "        dates = pd.DataFrame(list(session.execute(f'SELECT toDate(timestamp) as date\\\n",
    "         FROM \"Event\";')))['date'].unique()\n",
    "    #print(dates)\n",
    "    dates.sort()\n",
    "    for date in dates:\n",
    "        date_time_obj = datetime. strptime(str(date), '%Y-%m-%d')\n",
    "        if (date_time_obj.date() >= datetime.now().date()):\n",
    "                print(f\"you have to wait until next day to process {date_time_obj.date()} data\")\n",
    "                return\n",
    "        date_1 = (datetime.strptime(str(date), \"%Y-%m-%d\"))\n",
    "        end_date = date_1 + timedelta(days=1)\n",
    "        end_date = str(end_date.date())\n",
    "        date = str(date)\n",
    "        \"\"\" date_1 = datetime.datetime.strptime(date, \"%Y-%m-%d\")\n",
    "        end_date = date_1 + timedelta(days=1)\n",
    "        end_date = time.mktime(datetime.datetime.strptime(end_date, \"%Y-%m-%d\").timetuple())\n",
    "\n",
    "        start =  time.mktime(datetime.datetime.strptime(date, \"%Y-%m-%d\").timetuple()) \"\"\"\n",
    "    \n",
    "        data = pd.DataFrame(list(session.execute(f\"SELECT id_event, end_station, \\\"id_card \\\",\\\n",
    "         id_user, line, start_station, \\\"timestamp\\\", toDate(\\\"timestamp\\\") as day FROM \\\"Event\\\"\\\n",
    "          where timestamp >= '{date}' and timestamp < '{end_date}' allow filtering;\")))\n",
    "\n",
    "        for i in range(data.shape[0]):\n",
    "            date = data.loc[i,'timestamp']\n",
    "            data.loc[i,'Hour'] = str(date.time().hour)\n",
    "\n",
    "\n",
    "        #get start_hour\n",
    "        hours = [\"00\",\"01\",\"02\",\"03\",\"04\",\"05\",\"06\",\"07\",\"08\",\"09\",\"10\",\"11\",\"12\",\"13\",\"14\",\"15\",\"16\",\"17\",\"18\",\"19\",\"20\",\"21\",\"22\",\"23\"]\n",
    "        lines = ['A','B','C']\n",
    "        for index in range(len(hours)):\n",
    "                    start_hour = hours[index]\n",
    "                    try:\n",
    "                        end_hour = hours[index+1]\n",
    "                    \n",
    "                    except:\n",
    "                        end_hour = \"00\"\n",
    "                    #print(f\"{start_hour} ---> {end_hour}\")\n",
    "                    df = data[(data['day'] == date) & (data['Hour']==start_hour)]\n",
    "\n",
    "                    tram_lines = {}\n",
    "\n",
    "                    for line in lines:\n",
    "                        tram_lines[line] = {}\n",
    "                        data_for_line = df[df['line'] == line]\n",
    "\n",
    "                        tram_lines[line]['users'] = data_for_line.shape[0]\n",
    "\n",
    "                        for station in data_for_line['start_station'].unique():\n",
    "                            #print(station)\n",
    "\n",
    "                            data_for_station = data_for_line[data_for_line['start_station'] == station]\n",
    "\n",
    "                            tram_lines[line][station] = data_for_station.shape[0]\n",
    "                    #print(tram_lines)\n",
    "                    \n",
    "        \n",
    "        #write result in cassandra\n",
    "                    print(\"ok\")\n",
    "                    max_id = pd.DataFrame(list(session.execute(f'SELECT max(id) as max\\\n",
    "         FROM \"statistics_2\";')))[max].unique()[0]\n",
    "                    if(max_id == None):\n",
    "                        max_id=1\n",
    "                    else:\n",
    "                        max_id = max_id+1\n",
    "\n",
    "                    session.execute_async(f\"INSERT INTO statistics_2(id, day, end_hour, start_hour,\\\"tram_A\\\", \\\"tram_B\\\", \\\"tram_C\\\")\\\n",
    "VALUES ({max_id},'{date.date()}','{start_hour}','{end_hour}',{tram_lines['A']} , {tram_lines['B']},{tram_lines['C']});\")\n",
    "\n",
    "        print(\"statistics are saved!!\")\n",
    "\n",
    "\n",
    "\n",
    "\n",
    "\n",
    "\n",
    "                \n",
    "\n",
    "\n",
    "           \n",
    "                    "
   ]
  },
  {
   "cell_type": "code",
   "execution_count": 97,
   "metadata": {},
   "outputs": [
    {
     "data": {
      "text/plain": [
       "{'day': '03/11/2022',\n",
       " 'interval_start': 8,\n",
       " 'interval_end': 9,\n",
       " 'tram_A': {'users': 30, 'station1': 10, 'station2': 10, 'station3': 10},\n",
       " 'tram_B': {'users': 50, 'station1': 10, 'station2': 30, 'station3': 10},\n",
       " 'tram_C': {'users': 100, 'station1': 40, 'station2': 50, 'station3': 10}}"
      ]
     },
     "execution_count": 97,
     "metadata": {},
     "output_type": "execute_result"
    }
   ],
   "source": [
    "{\n",
    "    \"day\":\"03/11/2022\",\n",
    "    \"interval_start\":8,\n",
    "    \"interval_end\":9,\n",
    "    \"tram_A\":{\n",
    "        \"users\":30,\n",
    "        \"station1\":10,\n",
    "        \"station2\":10,\n",
    "        \"station3\":10,\n",
    "    },\n",
    "    \"tram_B\":{\n",
    "        \"users\":50,\n",
    "        \"station1\":10,\n",
    "        \"station2\":30,\n",
    "        \"station3\":10,\n",
    "    },\n",
    "    \"tram_C\":{\n",
    "        \"users\":100,\n",
    "        \"station1\":40,\n",
    "        \"station2\":50,\n",
    "        \"station3\":10,\n",
    "    }\n",
    "}"
   ]
  },
  {
   "cell_type": "code",
   "execution_count": 13,
   "metadata": {},
   "outputs": [],
   "source": [
    "objectdate = datetime.fromtimestamp(1667692800).date()"
   ]
  },
  {
   "cell_type": "code",
   "execution_count": 14,
   "metadata": {},
   "outputs": [
    {
     "name": "stdout",
     "output_type": "stream",
     "text": [
      "2022-11-06\n"
     ]
    }
   ],
   "source": [
    "hour = str(objectdate)\n",
    "print(hour)"
   ]
  },
  {
   "cell_type": "code",
   "execution_count": 93,
   "metadata": {},
   "outputs": [
    {
     "name": "stdout",
     "output_type": "stream",
     "text": [
      "1638000\n"
     ]
    }
   ],
   "source": [
    "dt = datetime( 1970, 1, 20,0,0,0)\n",
    "timestamp = int( dt.timestamp() )\n",
    "print(timestamp)"
   ]
  },
  {
   "cell_type": "code",
   "execution_count": 123,
   "metadata": {},
   "outputs": [
    {
     "name": "stdout",
     "output_type": "stream",
     "text": [
      "you have to wait until next day to process 2022-11-07 data\n"
     ]
    }
   ],
   "source": [
    "statistics_1(session)"
   ]
  },
  {
   "cell_type": "code",
   "execution_count": 129,
   "metadata": {},
   "outputs": [
    {
     "name": "stdout",
     "output_type": "stream",
     "text": [
      "you have to wait until next day to process 2022-11-07 data\n"
     ]
    }
   ],
   "source": [
    "statistics_2(session)"
   ]
  },
  {
   "cell_type": "code",
   "execution_count": 167,
   "metadata": {},
   "outputs": [],
   "source": [
    "users =  pd.DataFrame(list(session.execute(f'SELECT id_user FROM \"Event\" \\\n",
    "            where request_timestamp  >= {int(1667689200)} and request_timestamp < {int(1667775600)} ALLOW FILTERING;')))"
   ]
  },
  {
   "cell_type": "code",
   "execution_count": 168,
   "metadata": {},
   "outputs": [
    {
     "data": {
      "text/html": [
       "<div>\n",
       "<style scoped>\n",
       "    .dataframe tbody tr th:only-of-type {\n",
       "        vertical-align: middle;\n",
       "    }\n",
       "\n",
       "    .dataframe tbody tr th {\n",
       "        vertical-align: top;\n",
       "    }\n",
       "\n",
       "    .dataframe thead th {\n",
       "        text-align: right;\n",
       "    }\n",
       "</style>\n",
       "<table border=\"1\" class=\"dataframe\">\n",
       "  <thead>\n",
       "    <tr style=\"text-align: right;\">\n",
       "      <th></th>\n",
       "    </tr>\n",
       "  </thead>\n",
       "  <tbody>\n",
       "  </tbody>\n",
       "</table>\n",
       "</div>"
      ],
      "text/plain": [
       "Empty DataFrame\n",
       "Columns: []\n",
       "Index: []"
      ]
     },
     "execution_count": 168,
     "metadata": {},
     "output_type": "execute_result"
    }
   ],
   "source": [
    "def statistics_1(session):\n",
    "    last_day = pd.DataFrame(list(session.execute('SELECT max(day) as last_day FROM \"statistics_1\";')))['last_day'][0]\n",
    "    if last_day != None:\n",
    "        #get the users for the new day\n",
    "        date_1 = datetime.strptime(last_day, \"%m/%d/%y\")\n",
    "        end_date = date_1 + timedelta(days=1)\n",
    "\n",
    "        end_date = time.mktime(datetime.datetime.strptime(end_date, \"%Y/%m/%d\").timetuple())\n",
    "\n",
    "        dates = pd.DataFrame(list(session.execute(f'SELECT distinct CAST(totimestamp(mintimeuuid(request_timestamp)) as date) as day\\\n",
    "         FROM \"Event\" where request_timestamp >= {end_date};')))['day'].unique()\n",
    "        \n",
    "    else:\n",
    "        dates = pd.DataFrame(list(session.execute(f'SELECT CAST(totimestamp(mintimeuuid(request_timestamp)) as date) as day\\\n",
    "         FROM \"Event\";')))['day'].unique()\n",
    "\n",
    "    \n",
    "    for date in dates:\n",
    "            print(date)\n",
    "            date_1 = datetime.strptime(str(date), \"%Y-%m-%d\")\n",
    "            end_date = date_1 + timedelta(days=1)\n",
    "            print(end_date.date())\n",
    "            end_date = time.mktime(datetime.strptime(str(end_date.date()), \"%Y-%m-%d\").timetuple())\n",
    "\n",
    "            start =  time.mktime(datetime.strptime(str(date), \"%Y-%m-%d\").timetuple())\n",
    "            print(int(start))\n",
    "            print(int(end_date))\n",
    "            users =  pd.DataFrame(list(session.execute(f'SELECT id_user FROM \"Event\" \\\n",
    "            where request_timestamp  >= {int(start)} and request_timestamp < {int(end_date)} ALLOW FILTERING;')))\n",
    "            print(users)\n",
    "            users = users['id_user'].unique()\n",
    "            \n",
    "            #get the old users \n",
    "\n",
    "            old_users =  pd.DataFrame(list(session.execute(f'SELECT id_user FROM \"Event\" \\\n",
    "            where request_timestamp < {start};')))\n",
    "\n",
    "            old_users = old_users['id_user'].unique()\n",
    "\n",
    "            #find the new users\n",
    "            #new_users_count = 0\n",
    "            new_users = []\n",
    "            for user in users:\n",
    "                if user not in old_users:\n",
    "                    new_users.append(user)\n",
    "\n",
    "\n",
    "            details = {\"month\":[],\"year\":[]}\n",
    "\n",
    "            #find the type of subsciption for new users\n",
    "            prepared_statement = session.prepare('SELECT type from Card where id_client = ?')\n",
    "\n",
    "            for user in new_users:\n",
    "                card_type = pd.DataFrame(list(session.execute(prepared_statement,[user])))['type'][0]\n",
    "                if(card_type == \"month\"):\n",
    "                    details['month'].append(user)\n",
    "                elif(card_type == \"year\"):\n",
    "                    details['year'].append(user)\n",
    "\n",
    "            session.execute_async(f'INSERT INTO statistics_1(day, month_user, new_subs, year_user)\\\n",
    "            VALUES ({date}, {len(details[\"month\"])},{len(new_users)} ,{len(details[\"year\"])} );')"
   ]
  },
  {
   "cell_type": "code",
   "execution_count": 176,
   "metadata": {},
   "outputs": [],
   "source": [
    "import pytz\n",
    "user_tz = pytz.timezone('US/Central')\n",
    "timestamp_naive = datetime.datetime(2022,11,6) \n",
    "timestamp_utc = pytz.utc.localize(timestamp_naive)\n",
    "timestamp_presented = timestamp_utc.astimezone(user_tz)"
   ]
  },
  {
   "cell_type": "code",
   "execution_count": 181,
   "metadata": {},
   "outputs": [
    {
     "name": "stdout",
     "output_type": "stream",
     "text": [
      "2022-11-05 19:00:00-05:00\n"
     ]
    }
   ],
   "source": [
    "print(timestamp_presented)"
   ]
  },
  {
   "cell_type": "code",
   "execution_count": 17,
   "metadata": {},
   "outputs": [],
   "source": [
    "df = pd.DataFrame(list(session.execute(f'SELECT toDate(request_timestamp) as day\\\n",
    "         FROM \"Event\";')))"
   ]
  },
  {
   "cell_type": "code",
   "execution_count": 18,
   "metadata": {},
   "outputs": [
    {
     "data": {
      "text/html": [
       "<div>\n",
       "<style scoped>\n",
       "    .dataframe tbody tr th:only-of-type {\n",
       "        vertical-align: middle;\n",
       "    }\n",
       "\n",
       "    .dataframe tbody tr th {\n",
       "        vertical-align: top;\n",
       "    }\n",
       "\n",
       "    .dataframe thead th {\n",
       "        text-align: right;\n",
       "    }\n",
       "</style>\n",
       "<table border=\"1\" class=\"dataframe\">\n",
       "  <thead>\n",
       "    <tr style=\"text-align: right;\">\n",
       "      <th></th>\n",
       "      <th>day</th>\n",
       "    </tr>\n",
       "  </thead>\n",
       "  <tbody>\n",
       "    <tr>\n",
       "      <th>0</th>\n",
       "      <td>1970-01-20</td>\n",
       "    </tr>\n",
       "  </tbody>\n",
       "</table>\n",
       "</div>"
      ],
      "text/plain": [
       "          day\n",
       "0  1970-01-20"
      ]
     },
     "execution_count": 18,
     "metadata": {},
     "output_type": "execute_result"
    }
   ],
   "source": [
    "df"
   ]
  },
  {
   "cell_type": "code",
   "execution_count": 77,
   "metadata": {},
   "outputs": [],
   "source": [
    "users =  pd.DataFrame(list(session.execute(f\"SELECT id_user FROM \\\"Event\\\" where timestamp >= '2022-11-06' and  timestamp < '2022-11-07' allow filtering;\")))"
   ]
  },
  {
   "cell_type": "code",
   "execution_count": 78,
   "metadata": {},
   "outputs": [
    {
     "data": {
      "text/html": [
       "<div>\n",
       "<style scoped>\n",
       "    .dataframe tbody tr th:only-of-type {\n",
       "        vertical-align: middle;\n",
       "    }\n",
       "\n",
       "    .dataframe tbody tr th {\n",
       "        vertical-align: top;\n",
       "    }\n",
       "\n",
       "    .dataframe thead th {\n",
       "        text-align: right;\n",
       "    }\n",
       "</style>\n",
       "<table border=\"1\" class=\"dataframe\">\n",
       "  <thead>\n",
       "    <tr style=\"text-align: right;\">\n",
       "      <th></th>\n",
       "      <th>id_user</th>\n",
       "    </tr>\n",
       "  </thead>\n",
       "  <tbody>\n",
       "    <tr>\n",
       "      <th>0</th>\n",
       "      <td>1</td>\n",
       "    </tr>\n",
       "    <tr>\n",
       "      <th>1</th>\n",
       "      <td>2</td>\n",
       "    </tr>\n",
       "    <tr>\n",
       "      <th>2</th>\n",
       "      <td>3</td>\n",
       "    </tr>\n",
       "  </tbody>\n",
       "</table>\n",
       "</div>"
      ],
      "text/plain": [
       "   id_user\n",
       "0        1\n",
       "1        2\n",
       "2        3"
      ]
     },
     "execution_count": 78,
     "metadata": {},
     "output_type": "execute_result"
    }
   ],
   "source": [
    "users"
   ]
  },
  {
   "cell_type": "code",
   "execution_count": 91,
   "metadata": {},
   "outputs": [
    {
     "name": "stdout",
     "output_type": "stream",
     "text": [
      "0    2022-11-06\n",
      "1    2022-11-06\n",
      "2    2022-11-06\n",
      "Name: date, dtype: object\n"
     ]
    }
   ],
   "source": [
    "print(dates['date'])"
   ]
  },
  {
   "cell_type": "code",
   "execution_count": 87,
   "metadata": {},
   "outputs": [],
   "source": [
    "dates = pd.DataFrame(list(session.execute(f'SELECT toDate(timestamp) as date\\\n",
    "         FROM \"Event\";')))#['date'].unique()"
   ]
  },
  {
   "cell_type": "code",
   "execution_count": 77,
   "metadata": {},
   "outputs": [],
   "source": [
    "max_id = pd.DataFrame(list(session.execute(f'SELECT max(id) as max\\\n",
    "         FROM \"statistics_2\";')))[max].unique()"
   ]
  },
  {
   "cell_type": "code",
   "execution_count": 101,
   "metadata": {},
   "outputs": [
    {
     "data": {
      "text/plain": [
       "True"
      ]
     },
     "execution_count": 101,
     "metadata": {},
     "output_type": "execute_result"
    }
   ],
   "source": [
    "\n",
    "date_time_obj = datetime. strptime(\"2022-11-06\", '%Y-%m-%d')\n",
    "\n",
    "\n",
    "date_time_obj.date() < datetime.now().date()"
   ]
  },
  {
   "cell_type": "code",
   "execution_count": null,
   "metadata": {},
   "outputs": [],
   "source": [
    "def processOrNot(date):\n",
    "\n",
    "\n",
    "    #"
   ]
  }
 ],
 "metadata": {
  "kernelspec": {
   "display_name": "Python 3.8.8 ('base')",
   "language": "python",
   "name": "python3"
  },
  "language_info": {
   "codemirror_mode": {
    "name": "ipython",
    "version": 3
   },
   "file_extension": ".py",
   "mimetype": "text/x-python",
   "name": "python",
   "nbconvert_exporter": "python",
   "pygments_lexer": "ipython3",
   "version": "3.8.8"
  },
  "orig_nbformat": 4,
  "vscode": {
   "interpreter": {
    "hash": "a077222d77dfe082b8f1dd562ad70e458ac2ab76993a0b248ab0476e32e9e8dd"
   }
  }
 },
 "nbformat": 4,
 "nbformat_minor": 2
}
